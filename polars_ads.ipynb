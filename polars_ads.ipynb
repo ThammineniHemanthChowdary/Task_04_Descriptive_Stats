{
  "nbformat": 4,
  "nbformat_minor": 0,
  "metadata": {
    "colab": {
      "provenance": [],
      "authorship_tag": "ABX9TyMr1W4AnMxSwEEsD3s4mw9G",
      "include_colab_link": true
    },
    "kernelspec": {
      "name": "python3",
      "display_name": "Python 3"
    },
    "language_info": {
      "name": "python"
    }
  },
  "cells": [
    {
      "cell_type": "markdown",
      "metadata": {
        "id": "view-in-github",
        "colab_type": "text"
      },
      "source": [
        "<a href=\"https://colab.research.google.com/github/ThammineniHemanthChowdary/Task_04_Descriptive_Stats/blob/main/polars.ipynb\" target=\"_parent\"><img src=\"https://colab.research.google.com/assets/colab-badge.svg\" alt=\"Open In Colab\"/></a>"
      ]
    },
    {
      "cell_type": "markdown",
      "source": [
        "# New Section"
      ],
      "metadata": {
        "id": "eDCb-K_RJwX8"
      }
    },
    {
      "cell_type": "code",
      "source": [
        "import polars as pl\n",
        "\n",
        "file_path = '/content/2024_fb_ads_president_scored_anon.csv'\n",
        "df = pl.read_csv(file_path)\n",
        "\n",
        "with open(\"polars_output.txt\", \"w\", encoding=\"utf-8\") as f:\n",
        "    f.write(\"Overall Summary:\\n\")\n",
        "    f.write(str(df.describe()))\n",
        "\n",
        "    f.write(\"\\n\\nTop 5 value counts for categorical columns:\\n\")\n",
        "    for col in df.columns:\n",
        "        if df[col].dtype == pl.Utf8:\n",
        "            f.write(f\"\\n{col}:\\n\")\n",
        "            value_counts = (\n",
        "                df.select([pl.col(col)])\n",
        "                .group_by(pl.col(col))\n",
        "                .agg(pl.len().alias(\"count\"))\n",
        "                .sort(\"count\", descending=True)\n",
        "                .limit(5)\n",
        "            )\n",
        "            f.write(str(value_counts))\n",
        "\n",
        "    if 'page_id' in df.columns:\n",
        "        f.write(\"\\n\\nGrouped by page_id (first 3 groups):\\n\")\n",
        "        numeric_cols = [c for c in df.columns if df[c].dtype in [pl.Float64, pl.Int64]]\n",
        "        grouped_df = df.select(['page_id'] + numeric_cols)\n",
        "        grouped = grouped_df.group_by('page_id').agg(\n",
        "            [pl.len().alias(\"count\")] + [pl.col(c).mean().alias(f\"{c}_mean\") for c in numeric_cols]\n",
        "        )\n",
        "        f.write(str(grouped.head(3)))"
      ],
      "metadata": {
        "id": "g-G2yy53OUd8"
      },
      "execution_count": 20,
      "outputs": []
    },
    {
      "cell_type": "code",
      "source": [],
      "metadata": {
        "id": "Tw4rj8g2Ot9N"
      },
      "execution_count": null,
      "outputs": []
    }
  ]
}
