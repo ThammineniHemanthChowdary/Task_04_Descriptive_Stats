{
  "nbformat": 4,
  "nbformat_minor": 0,
  "metadata": {
    "colab": {
      "provenance": [],
      "authorship_tag": "ABX9TyPMyDqEt0KTyju98oaFgQUy",
      "include_colab_link": true
    },
    "kernelspec": {
      "name": "python3",
      "display_name": "Python 3"
    },
    "language_info": {
      "name": "python"
    }
  },
  "cells": [
    {
      "cell_type": "markdown",
      "metadata": {
        "id": "view-in-github",
        "colab_type": "text"
      },
      "source": [
        "<a href=\"https://colab.research.google.com/github/ThammineniHemanthChowdary/Task_04_Descriptive_Stats/blob/main/pandas.ipynb\" target=\"_parent\"><img src=\"https://colab.research.google.com/assets/colab-badge.svg\" alt=\"Open In Colab\"/></a>"
      ]
    },
    {
      "cell_type": "markdown",
      "source": [
        "# New Section"
      ],
      "metadata": {
        "id": "eDCb-K_RJwX8"
      }
    },
    {
      "cell_type": "code",
      "source": [
        "import pandas as pd\n",
        "\n",
        "file_path = '/content/2024_fb_ads_president_scored_anon.csv'\n",
        "df = pd.read_csv(file_path)\n",
        "\n",
        "with open(\"pandas_output.txt\", \"w\", encoding=\"utf-8\") as f:\n",
        "    f.write(\"Overall Summary:\\n\")\n",
        "    f.write(df.describe(include='all').to_string())\n",
        "\n",
        "    f.write(\"\\n\\nTop 5 value counts for categorical columns:\\n\")\n",
        "    for col in df.select_dtypes(include='object').columns:\n",
        "        f.write(f\"\\n{col}:\\n\")\n",
        "        f.write(df[col].value_counts().head(5).to_string())\n",
        "\n",
        "    f.write(\"\\n\\nGrouped by page_id (first 3 groups):\\n\")\n",
        "    f.write(df.groupby('page_id').describe().head(3).to_string())"
      ],
      "metadata": {
        "id": "g-G2yy53OUd8"
      },
      "execution_count": 6,
      "outputs": []
    },
    {
      "cell_type": "code",
      "source": [],
      "metadata": {
        "id": "Tw4rj8g2Ot9N"
      },
      "execution_count": null,
      "outputs": []
    }
  ]
}